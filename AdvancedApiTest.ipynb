{
 "cells": [
  {
   "cell_type": "code",
   "execution_count": 1,
   "id": "e8aa8a63-af52-4712-93c7-b76aa25dfcfb",
   "metadata": {},
   "outputs": [],
   "source": [
    "!pip install -q openai networkx"
   ]
  },
  {
   "cell_type": "code",
   "execution_count": 9,
   "id": "7034ced0-f632-4925-b938-a45c586fe0a7",
   "metadata": {},
   "outputs": [
    {
     "name": "stdout",
     "output_type": "stream",
     "text": [
      "Collecting matplotlib\n",
      "  Downloading matplotlib-3.10.3-cp313-cp313-win_amd64.whl.metadata (11 kB)\n",
      "Collecting contourpy>=1.0.1 (from matplotlib)\n",
      "  Downloading contourpy-1.3.2-cp313-cp313-win_amd64.whl.metadata (5.5 kB)\n",
      "Collecting cycler>=0.10 (from matplotlib)\n",
      "  Downloading cycler-0.12.1-py3-none-any.whl.metadata (3.8 kB)\n",
      "Collecting fonttools>=4.22.0 (from matplotlib)\n",
      "  Downloading fonttools-4.58.0-cp313-cp313-win_amd64.whl.metadata (106 kB)\n",
      "Collecting kiwisolver>=1.3.1 (from matplotlib)\n",
      "  Downloading kiwisolver-1.4.8-cp313-cp313-win_amd64.whl.metadata (6.3 kB)\n",
      "Collecting numpy>=1.23 (from matplotlib)\n",
      "  Downloading numpy-2.2.5-cp313-cp313-win_amd64.whl.metadata (60 kB)\n",
      "Requirement already satisfied: packaging>=20.0 in c:\\users\\aless\\appdata\\roaming\\python\\python313\\site-packages (from matplotlib) (24.2)\n",
      "Collecting pillow>=8 (from matplotlib)\n",
      "  Downloading pillow-11.2.1-cp313-cp313-win_amd64.whl.metadata (9.1 kB)\n",
      "Collecting pyparsing>=2.3.1 (from matplotlib)\n",
      "  Downloading pyparsing-3.2.3-py3-none-any.whl.metadata (5.0 kB)\n",
      "Requirement already satisfied: python-dateutil>=2.7 in c:\\users\\aless\\appdata\\roaming\\python\\python313\\site-packages (from matplotlib) (2.9.0.post0)\n",
      "Requirement already satisfied: six>=1.5 in c:\\users\\aless\\appdata\\roaming\\python\\python313\\site-packages (from python-dateutil>=2.7->matplotlib) (1.17.0)\n",
      "Downloading matplotlib-3.10.3-cp313-cp313-win_amd64.whl (8.1 MB)\n",
      "   ---------------------------------------- 0.0/8.1 MB ? eta -:--:--\n",
      "   - -------------------------------------- 0.3/8.1 MB ? eta -:--:--\n",
      "   --- ------------------------------------ 0.8/8.1 MB 2.5 MB/s eta 0:00:03\n",
      "   ------ --------------------------------- 1.3/8.1 MB 2.5 MB/s eta 0:00:03\n",
      "   ------- -------------------------------- 1.6/8.1 MB 2.2 MB/s eta 0:00:03\n",
      "   ---------- ----------------------------- 2.1/8.1 MB 2.3 MB/s eta 0:00:03\n",
      "   ------------ --------------------------- 2.6/8.1 MB 2.2 MB/s eta 0:00:03\n",
      "   --------------- ------------------------ 3.1/8.1 MB 2.2 MB/s eta 0:00:03\n",
      "   ---------------- ----------------------- 3.4/8.1 MB 2.2 MB/s eta 0:00:03\n",
      "   ------------------- -------------------- 3.9/8.1 MB 2.3 MB/s eta 0:00:02\n",
      "   ---------------------- ----------------- 4.5/8.1 MB 2.2 MB/s eta 0:00:02\n",
      "   ------------------------ --------------- 5.0/8.1 MB 2.2 MB/s eta 0:00:02\n",
      "   ------------------------- -------------- 5.2/8.1 MB 2.3 MB/s eta 0:00:02\n",
      "   ---------------------------- ----------- 5.8/8.1 MB 2.3 MB/s eta 0:00:02\n",
      "   ------------------------------- -------- 6.3/8.1 MB 2.3 MB/s eta 0:00:01\n",
      "   --------------------------------- ------ 6.8/8.1 MB 2.3 MB/s eta 0:00:01\n",
      "   ------------------------------------ --- 7.3/8.1 MB 2.3 MB/s eta 0:00:01\n",
      "   -------------------------------------- - 7.9/8.1 MB 2.3 MB/s eta 0:00:01\n",
      "   ---------------------------------------- 8.1/8.1 MB 2.3 MB/s eta 0:00:00\n",
      "Downloading contourpy-1.3.2-cp313-cp313-win_amd64.whl (223 kB)\n",
      "Downloading cycler-0.12.1-py3-none-any.whl (8.3 kB)\n",
      "Downloading fonttools-4.58.0-cp313-cp313-win_amd64.whl (2.2 MB)\n",
      "   ---------------------------------------- 0.0/2.2 MB ? eta -:--:--\n",
      "   ---- ----------------------------------- 0.3/2.2 MB ? eta -:--:--\n",
      "   --------- ------------------------------ 0.5/2.2 MB 1.8 MB/s eta 0:00:01\n",
      "   ------------------ --------------------- 1.0/2.2 MB 2.0 MB/s eta 0:00:01\n",
      "   ---------------------------- ----------- 1.6/2.2 MB 2.1 MB/s eta 0:00:01\n",
      "   --------------------------------- ------ 1.8/2.2 MB 1.9 MB/s eta 0:00:01\n",
      "   ---------------------------------------- 2.2/2.2 MB 2.0 MB/s eta 0:00:00\n",
      "Downloading kiwisolver-1.4.8-cp313-cp313-win_amd64.whl (71 kB)\n",
      "Downloading numpy-2.2.5-cp313-cp313-win_amd64.whl (12.6 MB)\n",
      "   ---------------------------------------- 0.0/12.6 MB ? eta -:--:--\n",
      "    --------------------------------------- 0.3/12.6 MB ? eta -:--:--\n",
      "   -- ------------------------------------- 0.8/12.6 MB 2.2 MB/s eta 0:00:06\n",
      "   ---- ----------------------------------- 1.3/12.6 MB 2.4 MB/s eta 0:00:05\n",
      "   ---- ----------------------------------- 1.6/12.6 MB 2.3 MB/s eta 0:00:05\n",
      "   ------ --------------------------------- 2.1/12.6 MB 2.3 MB/s eta 0:00:05\n",
      "   -------- ------------------------------- 2.6/12.6 MB 2.2 MB/s eta 0:00:05\n",
      "   --------- ------------------------------ 3.1/12.6 MB 2.2 MB/s eta 0:00:05\n",
      "   ---------- ----------------------------- 3.4/12.6 MB 2.3 MB/s eta 0:00:05\n",
      "   ------------ --------------------------- 3.9/12.6 MB 2.3 MB/s eta 0:00:04\n",
      "   -------------- ------------------------- 4.5/12.6 MB 2.3 MB/s eta 0:00:04\n",
      "   -------------- ------------------------- 4.7/12.6 MB 2.3 MB/s eta 0:00:04\n",
      "   ---------------- ----------------------- 5.2/12.6 MB 2.3 MB/s eta 0:00:04\n",
      "   ------------------ --------------------- 5.8/12.6 MB 2.2 MB/s eta 0:00:04\n",
      "   ------------------- -------------------- 6.0/12.6 MB 2.2 MB/s eta 0:00:03\n",
      "   -------------------- ------------------- 6.6/12.6 MB 2.2 MB/s eta 0:00:03\n",
      "   ---------------------- ----------------- 7.1/12.6 MB 2.2 MB/s eta 0:00:03\n",
      "   ------------------------ --------------- 7.6/12.6 MB 2.3 MB/s eta 0:00:03\n",
      "   ------------------------- -------------- 8.1/12.6 MB 2.3 MB/s eta 0:00:03\n",
      "   -------------------------- ------------- 8.4/12.6 MB 2.2 MB/s eta 0:00:02\n",
      "   --------------------------- ------------ 8.7/12.6 MB 2.2 MB/s eta 0:00:02\n",
      "   ----------------------------- ---------- 9.2/12.6 MB 2.2 MB/s eta 0:00:02\n",
      "   ----------------------------- ---------- 9.4/12.6 MB 2.2 MB/s eta 0:00:02\n",
      "   ------------------------------- -------- 10.0/12.6 MB 2.1 MB/s eta 0:00:02\n",
      "   --------------------------------- ------ 10.5/12.6 MB 2.2 MB/s eta 0:00:01\n",
      "   ---------------------------------- ----- 11.0/12.6 MB 2.2 MB/s eta 0:00:01\n",
      "   ----------------------------------- ---- 11.3/12.6 MB 2.2 MB/s eta 0:00:01\n",
      "   ------------------------------------- -- 11.8/12.6 MB 2.2 MB/s eta 0:00:01\n",
      "   -------------------------------------- - 12.3/12.6 MB 2.2 MB/s eta 0:00:01\n",
      "   ---------------------------------------- 12.6/12.6 MB 2.2 MB/s eta 0:00:00\n",
      "Downloading pillow-11.2.1-cp313-cp313-win_amd64.whl (2.7 MB)\n",
      "   ---------------------------------------- 0.0/2.7 MB ? eta -:--:--\n",
      "   --- ------------------------------------ 0.3/2.7 MB ? eta -:--:--\n",
      "   ----------- ---------------------------- 0.8/2.7 MB 2.6 MB/s eta 0:00:01\n",
      "   ------------------- -------------------- 1.3/2.7 MB 2.4 MB/s eta 0:00:01\n",
      "   ----------------------- ---------------- 1.6/2.7 MB 2.3 MB/s eta 0:00:01\n",
      "   ------------------------------- -------- 2.1/2.7 MB 2.3 MB/s eta 0:00:01\n",
      "   ---------------------------------------- 2.7/2.7 MB 2.4 MB/s eta 0:00:00\n",
      "Downloading pyparsing-3.2.3-py3-none-any.whl (111 kB)\n",
      "Installing collected packages: pyparsing, pillow, numpy, kiwisolver, fonttools, cycler, contourpy, matplotlib\n",
      "\n",
      "   ----- ---------------------------------- 1/8 [pillow]\n",
      "   ----- ---------------------------------- 1/8 [pillow]\n",
      "   ----- ---------------------------------- 1/8 [pillow]\n",
      "   ---------- ----------------------------- 2/8 [numpy]\n",
      "   ---------- ----------------------------- 2/8 [numpy]\n",
      "   ---------- ----------------------------- 2/8 [numpy]\n",
      "   ---------- ----------------------------- 2/8 [numpy]\n",
      "   ---------- ----------------------------- 2/8 [numpy]\n",
      "   ---------- ----------------------------- 2/8 [numpy]\n",
      "   ---------- ----------------------------- 2/8 [numpy]\n",
      "   ---------- ----------------------------- 2/8 [numpy]\n",
      "   ---------- ----------------------------- 2/8 [numpy]\n",
      "   ---------- ----------------------------- 2/8 [numpy]\n",
      "   ---------- ----------------------------- 2/8 [numpy]\n",
      "   ---------- ----------------------------- 2/8 [numpy]\n",
      "   ---------- ----------------------------- 2/8 [numpy]\n",
      "   ---------- ----------------------------- 2/8 [numpy]\n",
      "   ---------- ----------------------------- 2/8 [numpy]\n",
      "   ---------- ----------------------------- 2/8 [numpy]\n",
      "   ---------- ----------------------------- 2/8 [numpy]\n",
      "   ---------- ----------------------------- 2/8 [numpy]\n",
      "   ---------- ----------------------------- 2/8 [numpy]\n",
      "   -------------------- ------------------- 4/8 [fonttools]\n",
      "   -------------------- ------------------- 4/8 [fonttools]\n",
      "   -------------------- ------------------- 4/8 [fonttools]\n",
      "   -------------------- ------------------- 4/8 [fonttools]\n",
      "   -------------------- ------------------- 4/8 [fonttools]\n",
      "   -------------------- ------------------- 4/8 [fonttools]\n",
      "   -------------------- ------------------- 4/8 [fonttools]\n",
      "   -------------------- ------------------- 4/8 [fonttools]\n",
      "   -------------------- ------------------- 4/8 [fonttools]\n",
      "   ------------------------------ --------- 6/8 [contourpy]\n",
      "   ----------------------------------- ---- 7/8 [matplotlib]\n",
      "   ----------------------------------- ---- 7/8 [matplotlib]\n",
      "   ----------------------------------- ---- 7/8 [matplotlib]\n",
      "   ----------------------------------- ---- 7/8 [matplotlib]\n",
      "   ----------------------------------- ---- 7/8 [matplotlib]\n",
      "   ----------------------------------- ---- 7/8 [matplotlib]\n",
      "   ----------------------------------- ---- 7/8 [matplotlib]\n",
      "   ----------------------------------- ---- 7/8 [matplotlib]\n",
      "   ----------------------------------- ---- 7/8 [matplotlib]\n",
      "   ----------------------------------- ---- 7/8 [matplotlib]\n",
      "   ----------------------------------- ---- 7/8 [matplotlib]\n",
      "   ----------------------------------- ---- 7/8 [matplotlib]\n",
      "   ----------------------------------- ---- 7/8 [matplotlib]\n",
      "   ----------------------------------- ---- 7/8 [matplotlib]\n",
      "   ---------------------------------------- 8/8 [matplotlib]\n",
      "\n",
      "Successfully installed contourpy-1.3.2 cycler-0.12.1 fonttools-4.58.0 kiwisolver-1.4.8 matplotlib-3.10.3 numpy-2.2.5 pillow-11.2.1 pyparsing-3.2.3\n"
     ]
    }
   ],
   "source": [
    "!pip install matplotlib"
   ]
  },
  {
   "cell_type": "code",
   "execution_count": 5,
   "id": "139815e1-07c7-4472-9e65-2d5baefe3404",
   "metadata": {},
   "outputs": [],
   "source": [
    "from dotenv import load_dotenv\n",
    "import os"
   ]
  },
  {
   "cell_type": "code",
   "execution_count": 6,
   "id": "b06039ea-7d8d-4573-af36-dcea8a2e3bba",
   "metadata": {},
   "outputs": [
    {
     "name": "stdout",
     "output_type": "stream",
     "text": [
      "API key found and looks good so far!\n"
     ]
    }
   ],
   "source": [
    "load_dotenv(override=True)\n",
    "api_key = os.getenv('OPENAI_API_KEY')\n",
    "\n",
    "if not api_key:\n",
    "    print(\"No API key was found - please head over to the troubleshooting notebook in this folder to identify & fix!\")\n",
    "elif not api_key.startswith(\"sk-proj-\"):\n",
    "    print(\"An API key was found, but it doesn't start sk-proj-; please check you're using the right key - see troubleshooting notebook\")\n",
    "elif api_key.strip() != api_key:\n",
    "    print(\"An API key was found, but it looks like it might have space or tab characters at the start or end - please remove them - see troubleshooting notebook\")\n",
    "else:\n",
    "    print(\"API key found and looks good so far!\")"
   ]
  },
  {
   "cell_type": "code",
   "execution_count": 7,
   "id": "3e84066d-13f4-4b66-962f-26e8801cd267",
   "metadata": {},
   "outputs": [
    {
     "name": "stdout",
     "output_type": "stream",
     "text": [
      "2 + 2 equals 4.\n"
     ]
    }
   ],
   "source": [
    "from openai import OpenAI\n",
    "openai = OpenAI(api_key=api_key)\n",
    "response = openai.chat.completions.create(model=\"gpt-4o-mini\", messages=[{\"role\": \"user\", \"content\": \"What is 2+2?\"}])\n",
    "print(response.choices[0].message.content)"
   ]
  },
  {
   "cell_type": "code",
   "execution_count": 10,
   "id": "9f698f38-c8b0-4d9c-9c3c-5b3a0446184f",
   "metadata": {},
   "outputs": [],
   "source": [
    "import networkx as nx\n",
    "import matplotlib.pyplot as plt\n",
    "from typing import List, Dict, Tuple\n",
    "import json\n",
    "import math"
   ]
  },
  {
   "cell_type": "code",
   "execution_count": null,
   "id": "4317e991-18f9-49a1-99b8-d496364a4d7c",
   "metadata": {},
   "outputs": [],
   "source": []
  }
 ],
 "metadata": {
  "kernelspec": {
   "display_name": "Python (project-s-env)",
   "language": "python",
   "name": "project-s-env"
  },
  "language_info": {
   "codemirror_mode": {
    "name": "ipython",
    "version": 3
   },
   "file_extension": ".py",
   "mimetype": "text/x-python",
   "name": "python",
   "nbconvert_exporter": "python",
   "pygments_lexer": "ipython3",
   "version": "3.13.3"
  }
 },
 "nbformat": 4,
 "nbformat_minor": 5
}
