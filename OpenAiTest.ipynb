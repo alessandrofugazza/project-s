{
 "cells": [
  {
   "cell_type": "code",
   "execution_count": 1,
   "id": "2ef5d7a3-d3e8-4088-b2e0-1474e259fe6f",
   "metadata": {},
   "outputs": [],
   "source": [
    "import os\n",
    "import requests\n",
    "from dotenv import load_dotenv\n",
    "from bs4 import BeautifulSoup\n",
    "from IPython.display import Markdown, display\n",
    "from openai import OpenAI"
   ]
  },
  {
   "cell_type": "code",
   "execution_count": 3,
   "id": "609f17c9-2c5e-442d-8af6-1177d6ee3eea",
   "metadata": {},
   "outputs": [
    {
     "name": "stdout",
     "output_type": "stream",
     "text": [
      "API key found and looks good so far!\n"
     ]
    }
   ],
   "source": [
    "load_dotenv(override=True)\n",
    "api_key = os.getenv('OPENAI_API_KEY')\n",
    "\n",
    "if not api_key:\n",
    "    print(\"No API key was found - please head over to the troubleshooting notebook in this folder to identify & fix!\")\n",
    "elif not api_key.startswith(\"sk-proj-\"):\n",
    "    print(\"An API key was found, but it doesn't start sk-proj-; please check you're using the right key - see troubleshooting notebook\")\n",
    "elif api_key.strip() != api_key:\n",
    "    print(\"An API key was found, but it looks like it might have space or tab characters at the start or end - please remove them - see troubleshooting notebook\")\n",
    "else:\n",
    "    print(\"API key found and looks good so far!\")"
   ]
  },
  {
   "cell_type": "code",
   "execution_count": 4,
   "id": "84f8876b-2819-4e00-a1f0-0914ecc029db",
   "metadata": {},
   "outputs": [],
   "source": [
    "openai = OpenAI()"
   ]
  },
  {
   "cell_type": "code",
   "execution_count": 5,
   "id": "b250dce2-ff74-4589-aa69-48c211ad5ccb",
   "metadata": {},
   "outputs": [
    {
     "name": "stdout",
     "output_type": "stream",
     "text": [
      "Yes, it's working! How can I assist you today?\n"
     ]
    }
   ],
   "source": [
    "message = \"Is this thing working?\"\n",
    "response = openai.chat.completions.create(model=\"gpt-4o-mini\", messages=[{\"role\":\"user\", \"content\":message}])\n",
    "print(response.choices[0].message.content)"
   ]
  },
  {
   "cell_type": "code",
   "execution_count": 6,
   "id": "78211bdd-8e56-41b0-af4f-08f7bb8d323c",
   "metadata": {},
   "outputs": [],
   "source": [
    "headers = {\n",
    " \"User-Agent\": \"Mozilla/5.0 (Windows NT 10.0; Win64; x64) AppleWebKit/537.36 (KHTML, like Gecko) Chrome/117.0.0.0 Safari/537.36\"\n",
    "}\n",
    "\n",
    "class Website:\n",
    "\n",
    "    def __init__(self, url):\n",
    "        \"\"\"\n",
    "        Create this Website object from the given url using the BeautifulSoup library\n",
    "        \"\"\"\n",
    "        self.url = url\n",
    "        response = requests.get(url, headers=headers)\n",
    "        soup = BeautifulSoup(response.content, 'html.parser')\n",
    "        self.title = soup.title.string if soup.title else \"No title found\"\n",
    "        for irrelevant in soup.body([\"script\", \"style\", \"img\", \"input\"]):\n",
    "            irrelevant.decompose()\n",
    "        self.text = soup.body.get_text(separator=\"\\n\", strip=True)"
   ]
  },
  {
   "cell_type": "code",
   "execution_count": 7,
   "id": "49966b6f-ce0b-4d72-b3b6-0e156beb3e53",
   "metadata": {},
   "outputs": [
    {
     "name": "stdout",
     "output_type": "stream",
     "text": [
      "Welcome to the Playground - AlessandroFugazza\n",
      "AlessandroFugazza\n",
      "Search\n",
      "Home\n",
      "Blog\n",
      "About Me\n",
      "Contact\n",
      "GitHub\n",
      "LinkedIn\n",
      "Welcome to the Playground\n",
      "A personal website I set up to learn WordPress.\n",
      "Might as well use it to though.\n",
      "What I’m doing\n",
      "Robotics\n",
      "Web Development\n",
      "Machine Learning\n",
      "Communication Technologies\n",
      "iOS Development\n",
      "3D Printing\n",
      "AlessandroFugazza\n",
      "${myTagline}. Just kidding, I can code.\n"
     ]
    }
   ],
   "source": [
    "ed = Website(\"https://alessandrofugazza.com/\")\n",
    "print(ed.title)\n",
    "print(ed.text)"
   ]
  },
  {
   "cell_type": "code",
   "execution_count": 8,
   "id": "dbc4223b-7309-4838-b54e-4af407bafdb7",
   "metadata": {},
   "outputs": [],
   "source": [
    "system_prompt = \"You are an assistant that analyzes the contents of a website \\\n",
    "and provides a short summary, ignoring text that might be navigation related. \\\n",
    "Respond in markdown.\""
   ]
  },
  {
   "cell_type": "code",
   "execution_count": 9,
   "id": "0a5a39f7-e37a-4313-968b-3b105af36c28",
   "metadata": {},
   "outputs": [],
   "source": [
    "def user_prompt_for(website):\n",
    "    user_prompt = f\"You are looking at a website titled {website.title}\"\n",
    "    user_prompt += \"\\nThe contents of this website is as follows; \\\n",
    "please provide a short summary of this website in markdown. \\\n",
    "If it includes news or announcements, then summarize these too.\\n\\n\"\n",
    "    user_prompt += website.text\n",
    "    return user_prompt"
   ]
  },
  {
   "cell_type": "code",
   "execution_count": 10,
   "id": "7bd4398a-c759-4d6d-9b50-edcc53a263ca",
   "metadata": {},
   "outputs": [],
   "source": [
    "def messages_for(website):\n",
    "    return [\n",
    "        {\"role\": \"system\", \"content\": system_prompt},\n",
    "        {\"role\": \"user\", \"content\": user_prompt_for(website)}\n",
    "    ]"
   ]
  },
  {
   "cell_type": "code",
   "execution_count": 15,
   "id": "620f93ee-651e-41e1-b89f-3461570c2ed4",
   "metadata": {},
   "outputs": [],
   "source": [
    "def summarize(url):\n",
    "    print(\"SUMMARIZING\")\n",
    "    website = Website(url)\n",
    "    response = openai.chat.completions.create(\n",
    "        model = \"gpt-4o-mini\",\n",
    "        messages = messages_for(website)\n",
    "    )\n",
    "    return response.choices[0].message.content"
   ]
  },
  {
   "cell_type": "code",
   "execution_count": 12,
   "id": "86500511-3b17-43ba-b6bf-fd6ca33982a3",
   "metadata": {},
   "outputs": [
    {
     "data": {
      "text/plain": [
       "'# Summary of \"Welcome to the Playground - AlessandroFugazza\"\\n\\nThis personal website, created by Alessandro Fugazza, serves as a platform for learning WordPress and showcases his interests and skills in various fields. Key areas of focus include:\\n\\n- Robotics\\n- Web Development\\n- Machine Learning\\n- Communication Technologies\\n- iOS Development\\n- 3D Printing\\n\\nThe site appears to emphasize Alessandro\\'s coding abilities with a light-hearted tagline that suggests a playful approach to learning and sharing his work.'"
      ]
     },
     "execution_count": 12,
     "metadata": {},
     "output_type": "execute_result"
    }
   ],
   "source": [
    "summarize(\"https://alessandrofugazza.com/\")"
   ]
  },
  {
   "cell_type": "code",
   "execution_count": 13,
   "id": "d2e7da1d-5cc9-4fe2-9197-e4534fa4f747",
   "metadata": {},
   "outputs": [],
   "source": [
    "def display_summary(url):\n",
    "    summary = summarize(url)\n",
    "    display(Markdown(summary))"
   ]
  },
  {
   "cell_type": "code",
   "execution_count": 14,
   "id": "deb8bb27-f1bc-435e-a1ad-f5768a25b4e3",
   "metadata": {},
   "outputs": [
    {
     "data": {
      "text/markdown": [
       "# Summary of \"Welcome to the Playground - AlessandroFugazza\"\n",
       "\n",
       "The website \"Welcome to the Playground\" is a personal platform created by Alessandro Fugazza, primarily to learn WordPress. It serves multiple purposes, showcasing his interests and activities in various fields including:\n",
       "\n",
       "- Robotics\n",
       "- Web Development\n",
       "- Machine Learning\n",
       "- Communication Technologies\n",
       "- iOS Development\n",
       "- 3D Printing\n",
       "\n",
       "The playful tagline included on the site suggests a sense of humor about coding skills. Additionally, there are sections for a blog and contact information, implying a potential for sharing insights and updates related to his projects. There are no specific news or announcements mentioned on the site."
      ],
      "text/plain": [
       "<IPython.core.display.Markdown object>"
      ]
     },
     "metadata": {},
     "output_type": "display_data"
    }
   ],
   "source": [
    "display_summary(\"https://alessandrofugazza.com/\")"
   ]
  },
  {
   "cell_type": "code",
   "execution_count": null,
   "id": "2ac4661d-1d5c-4576-80b0-be5f9290fc6c",
   "metadata": {},
   "outputs": [],
   "source": []
  }
 ],
 "metadata": {
  "kernelspec": {
   "display_name": "Python (project-s-env)",
   "language": "python",
   "name": "project-s-env"
  },
  "language_info": {
   "codemirror_mode": {
    "name": "ipython",
    "version": 3
   },
   "file_extension": ".py",
   "mimetype": "text/x-python",
   "name": "python",
   "nbconvert_exporter": "python",
   "pygments_lexer": "ipython3",
   "version": "3.13.3"
  }
 },
 "nbformat": 4,
 "nbformat_minor": 5
}
